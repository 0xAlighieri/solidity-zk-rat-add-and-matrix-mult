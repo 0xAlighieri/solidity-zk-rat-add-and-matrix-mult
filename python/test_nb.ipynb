{
 "cells": [
  {
   "cell_type": "code",
   "execution_count": 1,
   "id": "b0613e3d-4b28-4763-b648-a4988fdee3c0",
   "metadata": {},
   "outputs": [],
   "source": [
    "import py_ecc"
   ]
  },
  {
   "cell_type": "code",
   "execution_count": 17,
   "id": "76369e01-a502-4a9e-a9b7-bee34c92e044",
   "metadata": {},
   "outputs": [],
   "source": [
    "from py_ecc.bn128 import G1, multiply, add, eq, bn128_curve\n",
    "import numpy as np\n"
   ]
  },
  {
   "cell_type": "code",
   "execution_count": 18,
   "id": "98263aed-024d-4045-86e3-7a7065151777",
   "metadata": {},
   "outputs": [
    {
     "name": "stdout",
     "output_type": "stream",
     "text": [
      "21888242871839275222246405745257275088548364400416034343698204186575808495617\n"
     ]
    }
   ],
   "source": [
    "\n",
    "order = bn128_curve.curve_order\n",
    "print(order)"
   ]
  },
  {
   "cell_type": "code",
   "execution_count": 99,
   "id": "84195132-9d84-4558-943b-3cba7574c9ec",
   "metadata": {},
   "outputs": [
    {
     "data": {
      "text/plain": [
       "(10293440467746533258730273868963994264411932774380931409364395879420497572327,\n",
       " 18924661395393895889209430839689985345119352834747028137037680748388518439784)"
      ]
     },
     "execution_count": 99,
     "metadata": {},
     "output_type": "execute_result"
    }
   ],
   "source": [
    "multiply(G1, 50)\n"
   ]
  },
  {
   "cell_type": "code",
   "execution_count": 5,
   "id": "6d7205bd-3360-4faa-8b25-b2e6867a4d37",
   "metadata": {},
   "outputs": [],
   "source": [
    "#5G = 2G + 3G\n",
    "LHS = multiply(G1, 5)"
   ]
  },
  {
   "cell_type": "code",
   "execution_count": 93,
   "id": "0e006408-fcf1-4877-b7f6-74f406112120",
   "metadata": {},
   "outputs": [
    {
     "data": {
      "text/plain": [
       "(1, 2)"
      ]
     },
     "execution_count": 93,
     "metadata": {},
     "output_type": "execute_result"
    }
   ],
   "source": [
    "multiply(G1, 1)"
   ]
  },
  {
   "cell_type": "code",
   "execution_count": null,
   "id": "b5febbf3-161d-4738-a941-70b87cfbb8ef",
   "metadata": {},
   "outputs": [],
   "source": [
    "\n",
    "contract ECWeek3 {\n",
    "\n",
    "    function add( uint256 x1,\n",
    "                uint256 y1,\n",
    "                uint256 x2, \n",
    "                uint256 y2) public view returns (uint256 x, uint256 y) {\n",
    "    (bool ok, bytes memory result) = address(6).staticcall(abi.encode(x1, y1, x2, y2));\n",
    "    require(ok, \"add failed\");\n",
    "    (x, y) = abi.decode(result, (uint256, uint256)); \n",
    "    }\n",
    "   \n",
    "   \n",
    "   function mul(uint256 scalar,\n",
    "                uint256 x1,\n",
    "                uint256 y1) public view returns (uint256 x, uint256 y) {\n",
    "    (bool ok, bytes memory result) = address(7).staticcall(abi.encode(x1, y1, scalar)); \n",
    "    require(ok, \"mul failed\");\n",
    "    (x, y) = abi.decode(result, (uint256, uint256));        \n",
    "    }\n",
    "   \n",
    "    }"
   ]
  },
  {
   "cell_type": "code",
   "execution_count": 4,
   "id": "99ffd628-af63-4345-a42f-9ff4680c0a77",
   "metadata": {},
   "outputs": [],
   "source": [
    "# Generate two random points A and B on the curve\n",
    "scalar1 = 12345  # Just a random scalar for demonstration\n",
    "scalar2 = 67890  # Another random scalar\n",
    "\n",
    "A = multiply(G1, scalar1)\n",
    "B = multiply(G1, scalar2)"
   ]
  },
  {
   "cell_type": "code",
   "execution_count": 5,
   "id": "59990212-284d-4a6e-be47-80ac60767385",
   "metadata": {},
   "outputs": [],
   "source": [
    "sum_point = add(A, B)"
   ]
  },
  {
   "cell_type": "code",
   "execution_count": 7,
   "id": "5d34e999-7503-400f-95e1-26327c04c6aa",
   "metadata": {},
   "outputs": [
    {
     "name": "stdout",
     "output_type": "stream",
     "text": [
      "Point A: (11404940445424363337823423808411232433223590477377068719858726746225925918890, 2424505913866680143139332783087422983475325405994502385033744924144562639386)\n",
      "Point B: (5603504579007923960208444541269536287065060571424200852729094886199781462115, 12966486747073072897250828579983592386029019057356013350121577496321852550144)\n",
      "Sum of A and B: (21494148937699694285520124965348013945078684230218757797850515614953686007227, 4861187657524460497840137342970397161624111978569058191141135587011059188249)\n"
     ]
    }
   ],
   "source": [
    "print(\"Point A:\", A)\n",
    "print(\"Point B:\", B)\n",
    "print(\"Sum of A and B:\", sum_point)"
   ]
  },
  {
   "cell_type": "markdown",
   "id": "4ffe739e-7ada-4361-b2fe-22f0aa5b3647",
   "metadata": {},
   "source": [
    "\n",
    "(11404940445424363337823423808411232433223590477377068719858726746225925918890, 2424505913866680143139332783087422983475325405994502385033744924144562639386), (5603504579007923960208444541269536287065060571424200852729094886199781462115, 12966486747073072897250828579983592386029019057356013350121577496321852550144),21494148937699694285520124965348013945078684230218757797850515614953686007227,4861187657524460497840137342970397161624111978569058191141135587011059188249"
   ]
  },
  {
   "cell_type": "code",
   "execution_count": 16,
   "id": "0a6c6866-8e16-49e6-b706-42deec652f4c",
   "metadata": {},
   "outputs": [
    {
     "name": "stdout",
     "output_type": "stream",
     "text": [
      "Matrix: [1, 2, 3, 4, 5, 6, 7, 8, 9]\n",
      "Plain values for s: [1, 2, 3]\n",
      "Vector s: [(1, 2), (1368015179489954701390400359078579693043519447331113978918064868415326638035, 9918110051302171585080402603319702774565515993150576347155970296011118125764), (3353031288059533942658390886683067124040920775575537747144343083137631628272, 19321533766552368860946552437480515441416830039777911637913418824951667761761)]\n",
      "\n",
      " pre-image matrix product: [[14]\n",
      " [32]\n",
      " [50]]\n",
      "matrix product converted to ecc: [(9836339169314901400584090930519505895878753154116006108033708428907043344230, 2085718088180884207082818799076507077917184375787335400014805976331012093279), (4873079524557847867653965550062716553062346862158697560012111398864356025363, 11422470166079944859104614283946245081791188387376113119760245565153108742933), (10293440467746533258730273868963994264411932774380931409364395879420497572327, 18924661395393895889209430839689985345119352834747028137037680748388518439784)]\n"
     ]
    }
   ],
   "source": [
    "def matrix_multiply(matrix_nxn_flat, matrix_1xn, n):\n",
    "    # Validate input length\n",
    "    if len(matrix_nxn_flat) != n * n:\n",
    "        raise ValueError(f\"Flat array for n x n matrix should have {n*n} elements for given n={n}\")\n",
    "    if len(matrix_1xn) != n:\n",
    "        raise ValueError(f\"1 x n matrix should have {n} elements for given n={n}\")\n",
    "\n",
    "    # Reshape the flat array to n x n matrix\n",
    "    matrix_nxn = matrix_nxn_flat.reshape(n, n)\n",
    "\n",
    "    # Transpose the 1 x n matrix to make it n x 1\n",
    "    matrix_nx1 = matrix_1xn.reshape(n, 1)\n",
    "\n",
    "    # Matrix multiplication\n",
    "    result = matrix_nxn @ matrix_nx1\n",
    "    return result\n",
    "\n",
    "def convert_to_bn128_points(matrix_output):\n",
    "    # Assuming matrix_output is a 2D array with shape (n, 1)\n",
    "    points = []\n",
    "    for value in matrix_output:\n",
    "        # Convert the value to an integer (if it's not already)\n",
    "        int_value = int(value[0])\n",
    "        \n",
    "        # Use the multiply function to get a point on the curve\n",
    "        point = multiply(G1, int_value)\n",
    "        points.append(point)\n",
    "    \n",
    "    return points\n",
    "\n",
    "def generate_random_point(scalar):\n",
    "    return multiply(G1, scalar)\n",
    "\n",
    "def generate_matrix_vector(n):\n",
    "    matrix = [i for i in range(1, n*n + 1)]  # Example: [1, 2, 3, ...]\n",
    "    s = [generate_random_point(i) for i in range(1, n + 1)]\n",
    "    x = [i for i in range(1, n + 1)]\n",
    "    return matrix, s, x\n",
    "    \n",
    "\n",
    "n = 3 # For example, let's use a 3x3 matrix\n",
    "matrix, s, x = generate_matrix_vector(n)\n",
    "matrix_output_preimage = matrix_multiply(np.array(matrix), np.array(x), n)\n",
    "print(\"Matrix:\", matrix)\n",
    "print(\"Plain values for s:\", x)\n",
    "print(\"Vector s:\", s)\n",
    "\n",
    "print(\"\\n pre-image matrix product:\", matrix_output_preimage)\n",
    "print(\"matrix product converted to ecc:\", convert_to_bn128_points(matrix_output_preimage))"
   ]
  },
  {
   "cell_type": "code",
   "execution_count": null,
   "id": "4afb991c-54af-478f-9de7-d7d5ee6f3a21",
   "metadata": {},
   "outputs": [],
   "source": [
    " \n",
    "print(\"Matrix:\", matrix)\n",
    "print(\"Plain values for s:\", x)\n",
    "print(\"Vector s:\", s)\n",
    "\n",
    "print(\"not ecc matrix product:\", matrix_multiply(np.array(matrix), np.array(x), n))"
   ]
  },
  {
   "cell_type": "code",
   "execution_count": null,
   "id": "339411d1-788e-45b3-bd9a-88076c0de131",
   "metadata": {},
   "outputs": [],
   "source": [
    "[[1, 2], [1368015179489954701390400359078579693043519447331113978918064868415326638035, 9918110051302171585080402603319702774565515993150576347155970296011118125764], [3353031288059533942658390886683067124040920775575537747144343083137631628272, 19321533766552368860946552437480515441416830039777911637913418824951667761761]]"
   ]
  },
  {
   "cell_type": "code",
   "execution_count": 90,
   "id": "87a8090b-3900-49d2-87f0-5440e437b631",
   "metadata": {
    "scrolled": true
   },
   "outputs": [
    {
     "name": "stdout",
     "output_type": "stream",
     "text": [
      "Matrix:\n",
      "[1, 2, 3]\n",
      "[4, 5, 6]\n",
      "[7, 8, 9]\n",
      "\n",
      "Processing row 1\n",
      "Multiplying s[0] ((1, 2)) with matrix[0] (1) results in (1, 2)\n",
      "Multiplying s[1] ((1368015179489954701390400359078579693043519447331113978918064868415326638035, 9918110051302171585080402603319702774565515993150576347155970296011118125764)) with matrix[1] (2) results in (3010198690406615200373504922352659861758983907867017329644089018310584441462, 4027184618003122424972590350825261965929648733675738730716654005365300998076)\n",
      "Multiplying s[2] ((3353031288059533942658390886683067124040920775575537747144343083137631628272, 19321533766552368860946552437480515441416830039777911637913418824951667761761)) with matrix[2] (3) results in (1624070059937464756887933993293429854168590106605707304006200119738501412969, 3269329550605213075043232856820720631601935657990457502777101397807070461336)\n",
      "Dot product result for row 1: (2760405784084766031048941084211214637585443195442047175202890478559233877858, 20213054655067667964993809782944507645185380754116889987641979434008178706659)\n",
      "\n",
      "Processing row 2\n",
      "Multiplying s[0] ((1, 2)) with matrix[3] (4) results in (3010198690406615200373504922352659861758983907867017329644089018310584441462, 4027184618003122424972590350825261965929648733675738730716654005365300998076)\n",
      "Multiplying s[1] ((1368015179489954701390400359078579693043519447331113978918064868415326638035, 9918110051302171585080402603319702774565515993150576347155970296011118125764)) with matrix[4] (5) results in (4444740815889402603535294170722302758225367627362056425101568584910268024244, 10537263096529483164618820017164668921386457028564663708352735080900270541420)\n",
      "Multiplying s[2] ((3353031288059533942658390886683067124040920775575537747144343083137631628272, 19321533766552368860946552437480515441416830039777911637913418824951667761761)) with matrix[5] (6) results in (20687098839691105097230132006705975099432129393118730698937199498853576759031, 2784555085364475896955849729890301289648525422842103121195101376751786827234)\n",
      "Dot product result for row 2: (16463757643526607400168003699830815906357312709459265472333527469639159614580, 2165515850126178681472883505014078672929427525719637978667920511035714677110)\n",
      "\n",
      "Processing row 3\n",
      "Multiplying s[0] ((1, 2)) with matrix[6] (7) results in (10415861484417082502655338383609494480414113902179649885744799961447382638712, 10196215078179488638353184030336251401353352596818396260819493263908881608606)\n",
      "Multiplying s[1] ((1368015179489954701390400359078579693043519447331113978918064868415326638035, 9918110051302171585080402603319702774565515993150576347155970296011118125764)) with matrix[7] (8) results in (10835225521862395592687560951453385602895512958032257955899877380493200080708, 2623520004791921319615054428233368525468155544765295675952919303096698181037)\n",
      "Multiplying s[2] ((3353031288059533942658390886683067124040920775575537747144343083137631628272, 19321533766552368860946552437480515441416830039777911637913418824951667761761)) with matrix[8] (9) results in (7386018680896664845814314739404608274906642913094681192334051733974875574294, 5852141382496003785706624430625245910156483599429242455944689364421678894028)\n",
      "Dot product result for row 3: (8980092562770699532121648653091601539111403648778028734763332521749282389201, 18049567448748671491476575973654696480526683656844081957776125730216624844263)\n",
      "\n",
      "Matrix: [1, 2, 3, 4, 5, 6, 7, 8, 9]\n",
      "Vector s: [(1, 2), (1368015179489954701390400359078579693043519447331113978918064868415326638035, 9918110051302171585080402603319702774565515993150576347155970296011118125764), (3353031288059533942658390886683067124040920775575537747144343083137631628272, 19321533766552368860946552437480515441416830039777911637913418824951667761761)]\n",
      "Output o: [2760405784084766031048941084211214637585443195442047175202890478559233877858, 16463757643526607400168003699830815906357312709459265472333527469639159614580, 8980092562770699532121648653091601539111403648778028734763332521749282389201]\n"
     ]
    }
   ],
   "source": [
    "def generate_random_point(scalar):\n",
    "    return multiply(G1, scalar)\n",
    "\n",
    "def generate_matrix_vector(n):\n",
    "    matrix = [i for i in range(1, n*n + 1)]  # Example: [1, 2, 3, ...]\n",
    "    s = [generate_random_point(i) for i in range(1, n + 1)]\n",
    "    return matrix, s\n",
    "\n",
    "def print_matrix(matrix, n):\n",
    "    print(\"Matrix:\")\n",
    "    for i in range(n):\n",
    "        row = matrix[i*n : (i+1)*n]\n",
    "        print(row)\n",
    "\n",
    "def compute_output(matrix, s, n, expected_o=None):\n",
    "    o = []\n",
    "    for i in range(n):\n",
    "        result = (0, 0)  # Zero point\n",
    "        print(f\"\\nProcessing row {i+1}\")\n",
    "        for j in range(n):\n",
    "            temp = multiply(s[j], matrix[i * n + j])\n",
    "            print(f\"Multiplying s[{j}] ({s[j]}) with matrix[{i*n + j}] ({matrix[i*n + j]}) results in {temp}\")\n",
    "            result = add(result, temp)\n",
    "        print(f\"Dot product result for row {i+1}: {result}\")\n",
    "        o.append(result[0])\n",
    "        \n",
    "        # Verification logic\n",
    "        if expected_o and result[0] != expected_o[i]:\n",
    "            print(f\"Warning: Mismatch detected at row {i+1}. Expected: {expected_o[i]}, Got: {result[0]}\")\n",
    "    return o\n",
    "\n",
    "n = 3 # For example, let's use a 3x3 matrix\n",
    "matrix, s = generate_matrix_vector(n)\n",
    "print_matrix(matrix, n)\n",
    "expected_o = [2760405784084766031048941084211214637585443195442047175202890478559233877858, 16463757643526607400168003699830815906357312709459265472333527469639159614580, 8980092562770699532121648653091601539111403648778028734763332521749282389201]\n",
    "# o = compute_output(matrix, s, n)\n",
    "o = compute_output(matrix, s, n, expected_o)\n",
    "\n",
    "\n",
    "print(\"\\nMatrix:\", matrix)\n",
    "print(\"Vector s:\", s)\n",
    "\n",
    "print(\n",
    "print(\"Output o:\", o)"
   ]
  },
  {
   "cell_type": "code",
   "execution_count": null,
   "id": "f47116d4-6a85-4496-a73b-05c86c4f58f2",
   "metadata": {},
   "outputs": [],
   "source": [
    "[1, 2, 3, 4, 5, 6, 7, 8, 9]\n",
    "3\n",
    "[[1, 2], [1368015179489954701390400359078579693043519447331113978918064868415326638035, 9918110051302171585080402603319702774565515993150576347155970296011118125764], [3353031288059533942658390886683067124040920775575537747144343083137631628272, 19321533766552368860946552437480515441416830039777911637913418824951667761761]]\n",
    "10293440467746533258730273868963994264411932774380931409364395879420497572327\n",
    "\n",
    "contract ECWeek3 {\n",
    "    struct ECPoint {\n",
    "        uint256 x;\n",
    "        uint256 y;\n",
    "    }\n",
    "\n",
    "    event DebugLog(string message, uint256 value);\n",
    "    event DebugLogPoint(string message, uint256 x, uint256 y);\n",
    "\n",
    "    function rationalAdd(ECPoint calldata A, ECPoint calldata B, uint256 num, uint256 den) public view returns (bool verified) {\n",
    "        ECPoint memory sum = add(A, B);\n",
    "        ECPoint memory expected = ECPoint(num, den); // This assumes that num/den is a valid point on the curve, which might not be the case\n",
    "\n",
    "        return (sum.x == expected.x && sum.y == expected.y);\n",
    "    }\n",
    "\n",
    "\n",
    "    function add(ECPoint memory P, ECPoint memory Q) public view returns (ECPoint memory R) {\n",
    "        (bool success, bytes memory data) = address(0x06).staticcall(abi.encode(P.x, P.y, Q.x, Q.y));\n",
    "\n",
    "        require(success, \"EC addition failed\");\n",
    "\n",
    "        (R.x, R.y) = abi.decode(data, (uint256, uint256));\n",
    "    }\n",
    "\n",
    "    function matmul(uint256[] calldata matrix, uint256 n, ECPoint[] calldata s, uint256[] calldata o) public returns (bool verified) {\n",
    "        if (matrix.length != n * n || s.length != n || o.length != n) {\n",
    "            revert(\"Invalid dimensions\");\n",
    "        }\n",
    "\n",
    "        for (uint256 i = 0; i < n; i++) {\n",
    "            ECPoint memory result = ECPoint(0, 0); // Initialize to zero point\n",
    "            emit DebugLog(\"Processing row\", i + 1);\n",
    "\n",
    "            for (uint256 j = 0; j < n; j++) {\n",
    "                emit DebugLogPoint(\"Multiplying s element with matrix element\", s[j].x, matrix[i * n + j]);\n",
    "                ECPoint memory temp = scalarMul(s[j], matrix[i * n + j]);\n",
    "                emit DebugLogPoint(\"Result of multiplication\", temp.x, temp.y);\n",
    "                result = add(result, temp);\n",
    "            }\n",
    "\n",
    "            emit DebugLogPoint(\"Dot product result for row\", result.x, result.y);\n",
    "\n",
    "            if (result.x != o[i]) {\n",
    "                emit DebugLog(\"Mismatch detected at row\", i + 1);\n",
    "                return false;\n",
    "            }\n",
    "        }\n",
    "\n",
    "        return true;\n",
    "    }\n",
    "\n",
    "    function scalarMul(ECPoint memory p, uint256 scalar) public view returns (ECPoint memory r) {\n",
    "        uint256[3] memory input;\n",
    "\n",
    "        input[0] = p.x;\n",
    "        input[1] = p.y;\n",
    "        (bool ok, bytes memory result) = address (7).staticcall(abi.encode(input[0], input[1], scalar)); \n",
    "        require(ok, \"mul failed\");\n",
    "        (r.x, r.y) = abi.decode(result, (uint256, uint256));\n",
    "\n",
    "        \n",
    "    }\n",
    "}"
   ]
  }
 ],
 "metadata": {
  "kernelspec": {
   "display_name": "Python 3 (ipykernel)",
   "language": "python",
   "name": "python3"
  },
  "language_info": {
   "codemirror_mode": {
    "name": "ipython",
    "version": 3
   },
   "file_extension": ".py",
   "mimetype": "text/x-python",
   "name": "python",
   "nbconvert_exporter": "python",
   "pygments_lexer": "ipython3",
   "version": "3.11.5"
  }
 },
 "nbformat": 4,
 "nbformat_minor": 5
}
